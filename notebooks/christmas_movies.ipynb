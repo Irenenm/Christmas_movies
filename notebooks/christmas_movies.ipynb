{
 "cells": [
  {
   "cell_type": "code",
   "execution_count": 14,
   "metadata": {},
   "outputs": [],
   "source": [
    "#import the necessary libraries\n",
    "import pandas as pd\n",
    "import numpy as np\n",
    "import matplotlib.pyplot as plt\n",
    "import seaborn as sns\n",
    "import sidetable"
   ]
  },
  {
   "cell_type": "code",
   "execution_count": 15,
   "metadata": {},
   "outputs": [
    {
     "data": {
      "text/html": [
       "<div>\n",
       "<style scoped>\n",
       "    .dataframe tbody tr th:only-of-type {\n",
       "        vertical-align: middle;\n",
       "    }\n",
       "\n",
       "    .dataframe tbody tr th {\n",
       "        vertical-align: top;\n",
       "    }\n",
       "\n",
       "    .dataframe thead th {\n",
       "        text-align: right;\n",
       "    }\n",
       "</style>\n",
       "<table border=\"1\" class=\"dataframe\">\n",
       "  <thead>\n",
       "    <tr style=\"text-align: right;\">\n",
       "      <th></th>\n",
       "      <th>title</th>\n",
       "      <th>rating</th>\n",
       "      <th>runtime</th>\n",
       "      <th>imdb_rating</th>\n",
       "      <th>meta_score</th>\n",
       "      <th>genre</th>\n",
       "      <th>release_year</th>\n",
       "      <th>description</th>\n",
       "      <th>director</th>\n",
       "      <th>stars</th>\n",
       "      <th>votes</th>\n",
       "      <th>gross</th>\n",
       "      <th>img_src</th>\n",
       "      <th>type</th>\n",
       "    </tr>\n",
       "  </thead>\n",
       "  <tbody>\n",
       "    <tr>\n",
       "      <th>0</th>\n",
       "      <td>Love Actually</td>\n",
       "      <td>R</td>\n",
       "      <td>135.0</td>\n",
       "      <td>7.6</td>\n",
       "      <td>55.0</td>\n",
       "      <td>Comedy, Drama, Romance</td>\n",
       "      <td>2003.0</td>\n",
       "      <td>Follows the lives of eight very different coup...</td>\n",
       "      <td>Richard Curtis</td>\n",
       "      <td>Hugh Grant, Martine McCutcheon, Liam Neeson, L...</td>\n",
       "      <td>491,920</td>\n",
       "      <td>$59.70M</td>\n",
       "      <td>https://m.media-amazon.com/images/M/MV5BMTY4Nj...</td>\n",
       "      <td>Movie</td>\n",
       "    </tr>\n",
       "    <tr>\n",
       "      <th>1</th>\n",
       "      <td>National Lampoon's Christmas Vacation</td>\n",
       "      <td>PG-13</td>\n",
       "      <td>97.0</td>\n",
       "      <td>7.5</td>\n",
       "      <td>49.0</td>\n",
       "      <td>Comedy</td>\n",
       "      <td>1989.0</td>\n",
       "      <td>The Griswold family's plans for a big family C...</td>\n",
       "      <td>Jeremiah S. Chechik</td>\n",
       "      <td>Chevy Chase, Beverly D'Angelo, Juliette Lewis,...</td>\n",
       "      <td>198,428</td>\n",
       "      <td>$71.32M</td>\n",
       "      <td>https://m.media-amazon.com/images/M/MV5BMGZkMW...</td>\n",
       "      <td>Movie</td>\n",
       "    </tr>\n",
       "  </tbody>\n",
       "</table>\n",
       "</div>"
      ],
      "text/plain": [
       "                                   title rating  runtime  imdb_rating  \\\n",
       "0                          Love Actually      R    135.0          7.6   \n",
       "1  National Lampoon's Christmas Vacation  PG-13     97.0          7.5   \n",
       "\n",
       "   meta_score                   genre  release_year  \\\n",
       "0        55.0  Comedy, Drama, Romance        2003.0   \n",
       "1        49.0                  Comedy        1989.0   \n",
       "\n",
       "                                         description             director  \\\n",
       "0  Follows the lives of eight very different coup...       Richard Curtis   \n",
       "1  The Griswold family's plans for a big family C...  Jeremiah S. Chechik   \n",
       "\n",
       "                                               stars    votes    gross  \\\n",
       "0  Hugh Grant, Martine McCutcheon, Liam Neeson, L...  491,920  $59.70M   \n",
       "1  Chevy Chase, Beverly D'Angelo, Juliette Lewis,...  198,428  $71.32M   \n",
       "\n",
       "                                             img_src   type  \n",
       "0  https://m.media-amazon.com/images/M/MV5BMTY4Nj...  Movie  \n",
       "1  https://m.media-amazon.com/images/M/MV5BMGZkMW...  Movie  "
      ]
     },
     "execution_count": 15,
     "metadata": {},
     "output_type": "execute_result"
    }
   ],
   "source": [
    "df = pd.read_csv('../data_movies/christmas_movies.csv')\n",
    "df.head(2)"
   ]
  },
  {
   "cell_type": "markdown",
   "metadata": {},
   "source": [
    "## EDA process begins"
   ]
  },
  {
   "cell_type": "code",
   "execution_count": 16,
   "metadata": {},
   "outputs": [
    {
     "data": {
      "text/plain": [
       "(788, 14)"
      ]
     },
     "execution_count": 16,
     "metadata": {},
     "output_type": "execute_result"
    }
   ],
   "source": [
    "df.shape"
   ]
  },
  {
   "cell_type": "code",
   "execution_count": 17,
   "metadata": {},
   "outputs": [
    {
     "data": {
      "text/plain": [
       "0"
      ]
     },
     "execution_count": 17,
     "metadata": {},
     "output_type": "execute_result"
    }
   ],
   "source": [
    "df.duplicated().sum()"
   ]
  },
  {
   "cell_type": "markdown",
   "metadata": {},
   "source": [
    "##### There are no duplicate values ​​but there are null values. We delete columns with a very high percentage of nulls."
   ]
  },
  {
   "cell_type": "code",
   "execution_count": 18,
   "metadata": {},
   "outputs": [],
   "source": [
    "df.drop(['meta_score', 'gross'], axis = 1, inplace = True)"
   ]
  },
  {
   "cell_type": "code",
   "execution_count": 19,
   "metadata": {},
   "outputs": [
    {
     "data": {
      "text/html": [
       "<div>\n",
       "<style scoped>\n",
       "    .dataframe tbody tr th:only-of-type {\n",
       "        vertical-align: middle;\n",
       "    }\n",
       "\n",
       "    .dataframe tbody tr th {\n",
       "        vertical-align: top;\n",
       "    }\n",
       "\n",
       "    .dataframe thead th {\n",
       "        text-align: right;\n",
       "    }\n",
       "</style>\n",
       "<table border=\"1\" class=\"dataframe\">\n",
       "  <thead>\n",
       "    <tr style=\"text-align: right;\">\n",
       "      <th></th>\n",
       "      <th>title</th>\n",
       "      <th>rating</th>\n",
       "      <th>runtime</th>\n",
       "      <th>imdb_rating</th>\n",
       "      <th>genre</th>\n",
       "      <th>release_year</th>\n",
       "      <th>description</th>\n",
       "      <th>director</th>\n",
       "      <th>stars</th>\n",
       "      <th>votes</th>\n",
       "      <th>img_src</th>\n",
       "      <th>type</th>\n",
       "    </tr>\n",
       "  </thead>\n",
       "  <tbody>\n",
       "    <tr>\n",
       "      <th>0</th>\n",
       "      <td>Love Actually</td>\n",
       "      <td>R</td>\n",
       "      <td>135.0</td>\n",
       "      <td>7.6</td>\n",
       "      <td>Comedy, Drama, Romance</td>\n",
       "      <td>2003.0</td>\n",
       "      <td>Follows the lives of eight very different coup...</td>\n",
       "      <td>Richard Curtis</td>\n",
       "      <td>Hugh Grant, Martine McCutcheon, Liam Neeson, L...</td>\n",
       "      <td>491,920</td>\n",
       "      <td>https://m.media-amazon.com/images/M/MV5BMTY4Nj...</td>\n",
       "      <td>Movie</td>\n",
       "    </tr>\n",
       "    <tr>\n",
       "      <th>1</th>\n",
       "      <td>National Lampoon's Christmas Vacation</td>\n",
       "      <td>PG-13</td>\n",
       "      <td>97.0</td>\n",
       "      <td>7.5</td>\n",
       "      <td>Comedy</td>\n",
       "      <td>1989.0</td>\n",
       "      <td>The Griswold family's plans for a big family C...</td>\n",
       "      <td>Jeremiah S. Chechik</td>\n",
       "      <td>Chevy Chase, Beverly D'Angelo, Juliette Lewis,...</td>\n",
       "      <td>198,428</td>\n",
       "      <td>https://m.media-amazon.com/images/M/MV5BMGZkMW...</td>\n",
       "      <td>Movie</td>\n",
       "    </tr>\n",
       "  </tbody>\n",
       "</table>\n",
       "</div>"
      ],
      "text/plain": [
       "                                   title rating  runtime  imdb_rating  \\\n",
       "0                          Love Actually      R    135.0          7.6   \n",
       "1  National Lampoon's Christmas Vacation  PG-13     97.0          7.5   \n",
       "\n",
       "                    genre  release_year  \\\n",
       "0  Comedy, Drama, Romance        2003.0   \n",
       "1                  Comedy        1989.0   \n",
       "\n",
       "                                         description             director  \\\n",
       "0  Follows the lives of eight very different coup...       Richard Curtis   \n",
       "1  The Griswold family's plans for a big family C...  Jeremiah S. Chechik   \n",
       "\n",
       "                                               stars    votes  \\\n",
       "0  Hugh Grant, Martine McCutcheon, Liam Neeson, L...  491,920   \n",
       "1  Chevy Chase, Beverly D'Angelo, Juliette Lewis,...  198,428   \n",
       "\n",
       "                                             img_src   type  \n",
       "0  https://m.media-amazon.com/images/M/MV5BMTY4Nj...  Movie  \n",
       "1  https://m.media-amazon.com/images/M/MV5BMGZkMW...  Movie  "
      ]
     },
     "execution_count": 19,
     "metadata": {},
     "output_type": "execute_result"
    }
   ],
   "source": [
    "df.head(2)"
   ]
  },
  {
   "cell_type": "code",
   "execution_count": 20,
   "metadata": {},
   "outputs": [
    {
     "data": {
      "text/plain": [
       "title            0.000000\n",
       "rating          18.020305\n",
       "runtime          4.949239\n",
       "imdb_rating      4.949239\n",
       "genre            0.126904\n",
       "release_year     1.015228\n",
       "description      0.000000\n",
       "director         0.634518\n",
       "stars            1.522843\n",
       "votes            4.949239\n",
       "img_src          0.000000\n",
       "type             0.000000\n",
       "dtype: float64"
      ]
     },
     "execution_count": 20,
     "metadata": {},
     "output_type": "execute_result"
    }
   ],
   "source": [
    "((df.isnull().sum()) / len(df)) * 100"
   ]
  },
  {
   "cell_type": "code",
   "execution_count": 21,
   "metadata": {},
   "outputs": [
    {
     "name": "stdout",
     "output_type": "stream",
     "text": [
      "<class 'pandas.core.frame.DataFrame'>\n",
      "RangeIndex: 788 entries, 0 to 787\n",
      "Data columns (total 12 columns):\n",
      " #   Column        Non-Null Count  Dtype  \n",
      "---  ------        --------------  -----  \n",
      " 0   title         788 non-null    object \n",
      " 1   rating        646 non-null    object \n",
      " 2   runtime       749 non-null    float64\n",
      " 3   imdb_rating   749 non-null    float64\n",
      " 4   genre         787 non-null    object \n",
      " 5   release_year  780 non-null    float64\n",
      " 6   description   788 non-null    object \n",
      " 7   director      783 non-null    object \n",
      " 8   stars         776 non-null    object \n",
      " 9   votes         749 non-null    object \n",
      " 10  img_src       788 non-null    object \n",
      " 11  type          788 non-null    object \n",
      "dtypes: float64(3), object(9)\n",
      "memory usage: 74.0+ KB\n"
     ]
    }
   ],
   "source": [
    "df.info()"
   ]
  },
  {
   "cell_type": "markdown",
   "metadata": {},
   "source": [
    "##### The column 'release_year', 'runtime' and 'votes' are not the correct data type. We change them."
   ]
  },
  {
   "cell_type": "code",
   "execution_count": 22,
   "metadata": {},
   "outputs": [],
   "source": [
    "#replace non-finite values ​​with null values \n",
    "df = df.replace([np.inf, -np.inf], np.nan).dropna()"
   ]
  },
  {
   "cell_type": "code",
   "execution_count": 23,
   "metadata": {},
   "outputs": [],
   "source": [
    "df['release_year'] = df['release_year'].astype('int')"
   ]
  },
  {
   "cell_type": "code",
   "execution_count": 24,
   "metadata": {},
   "outputs": [],
   "source": [
    "df['votes'] = df['votes'].str.replace(',', '').astype('int')"
   ]
  },
  {
   "cell_type": "code",
   "execution_count": 25,
   "metadata": {},
   "outputs": [],
   "source": [
    "df['runtime'] = df['runtime'].astype('int')"
   ]
  },
  {
   "cell_type": "code",
   "execution_count": 26,
   "metadata": {},
   "outputs": [
    {
     "data": {
      "text/plain": [
       "title            object\n",
       "rating           object\n",
       "runtime           int32\n",
       "imdb_rating     float64\n",
       "genre            object\n",
       "release_year      int32\n",
       "description      object\n",
       "director         object\n",
       "stars            object\n",
       "votes             int32\n",
       "img_src          object\n",
       "type             object\n",
       "dtype: object"
      ]
     },
     "execution_count": 26,
     "metadata": {},
     "output_type": "execute_result"
    }
   ],
   "source": [
    "df.dtypes"
   ]
  },
  {
   "cell_type": "code",
   "execution_count": 27,
   "metadata": {},
   "outputs": [
    {
     "data": {
      "text/html": [
       "<div>\n",
       "<style scoped>\n",
       "    .dataframe tbody tr th:only-of-type {\n",
       "        vertical-align: middle;\n",
       "    }\n",
       "\n",
       "    .dataframe tbody tr th {\n",
       "        vertical-align: top;\n",
       "    }\n",
       "\n",
       "    .dataframe thead th {\n",
       "        text-align: right;\n",
       "    }\n",
       "</style>\n",
       "<table border=\"1\" class=\"dataframe\">\n",
       "  <thead>\n",
       "    <tr style=\"text-align: right;\">\n",
       "      <th></th>\n",
       "      <th>title</th>\n",
       "      <th>rating</th>\n",
       "      <th>runtime</th>\n",
       "      <th>imdb_rating</th>\n",
       "      <th>genre</th>\n",
       "      <th>release_year</th>\n",
       "      <th>description</th>\n",
       "      <th>director</th>\n",
       "      <th>stars</th>\n",
       "      <th>votes</th>\n",
       "      <th>img_src</th>\n",
       "      <th>type</th>\n",
       "    </tr>\n",
       "  </thead>\n",
       "  <tbody>\n",
       "    <tr>\n",
       "      <th>0</th>\n",
       "      <td>Love Actually</td>\n",
       "      <td>R</td>\n",
       "      <td>135</td>\n",
       "      <td>7.6</td>\n",
       "      <td>Comedy, Drama, Romance</td>\n",
       "      <td>2003</td>\n",
       "      <td>Follows the lives of eight very different coup...</td>\n",
       "      <td>Richard Curtis</td>\n",
       "      <td>Hugh Grant, Martine McCutcheon, Liam Neeson, L...</td>\n",
       "      <td>491920</td>\n",
       "      <td>https://m.media-amazon.com/images/M/MV5BMTY4Nj...</td>\n",
       "      <td>Movie</td>\n",
       "    </tr>\n",
       "    <tr>\n",
       "      <th>1</th>\n",
       "      <td>National Lampoon's Christmas Vacation</td>\n",
       "      <td>PG-13</td>\n",
       "      <td>97</td>\n",
       "      <td>7.5</td>\n",
       "      <td>Comedy</td>\n",
       "      <td>1989</td>\n",
       "      <td>The Griswold family's plans for a big family C...</td>\n",
       "      <td>Jeremiah S. Chechik</td>\n",
       "      <td>Chevy Chase, Beverly D'Angelo, Juliette Lewis,...</td>\n",
       "      <td>198428</td>\n",
       "      <td>https://m.media-amazon.com/images/M/MV5BMGZkMW...</td>\n",
       "      <td>Movie</td>\n",
       "    </tr>\n",
       "  </tbody>\n",
       "</table>\n",
       "</div>"
      ],
      "text/plain": [
       "                                   title rating  runtime  imdb_rating  \\\n",
       "0                          Love Actually      R      135          7.6   \n",
       "1  National Lampoon's Christmas Vacation  PG-13       97          7.5   \n",
       "\n",
       "                    genre  release_year  \\\n",
       "0  Comedy, Drama, Romance          2003   \n",
       "1                  Comedy          1989   \n",
       "\n",
       "                                         description             director  \\\n",
       "0  Follows the lives of eight very different coup...       Richard Curtis   \n",
       "1  The Griswold family's plans for a big family C...  Jeremiah S. Chechik   \n",
       "\n",
       "                                               stars   votes  \\\n",
       "0  Hugh Grant, Martine McCutcheon, Liam Neeson, L...  491920   \n",
       "1  Chevy Chase, Beverly D'Angelo, Juliette Lewis,...  198428   \n",
       "\n",
       "                                             img_src   type  \n",
       "0  https://m.media-amazon.com/images/M/MV5BMTY4Nj...  Movie  \n",
       "1  https://m.media-amazon.com/images/M/MV5BMGZkMW...  Movie  "
      ]
     },
     "execution_count": 27,
     "metadata": {},
     "output_type": "execute_result"
    }
   ],
   "source": [
    "df.head(2)"
   ]
  },
  {
   "cell_type": "markdown",
   "metadata": {},
   "source": [
    "### Outliers"
   ]
  },
  {
   "cell_type": "code",
   "execution_count": 28,
   "metadata": {},
   "outputs": [],
   "source": [
    "numerics = df.select_dtypes(include = ['int', 'float'])"
   ]
  },
  {
   "cell_type": "code",
   "execution_count": 29,
   "metadata": {},
   "outputs": [
    {
     "data": {
      "image/png": "[encoded data removed]",
      "text/plain": [
       "<Figure size 500x1000 with 4 Axes>"
      ]
     },
     "metadata": {},
     "output_type": "display_data"
    }
   ],
   "source": [
    "fig, ax = plt.subplots(4, 1, figsize=(5,10))\n",
    "\n",
    "for i in range(len(numerics.columns)):\n",
    "    sns.boxplot(x=numerics.columns[i], data=numerics, ax=ax[i])\n",
    "    \n",
    "plt.tight_layout()"
   ]
  },
  {
   "cell_type": "markdown",
   "metadata": {},
   "source": [
    "##### There are many outliers but they make sense, so we won't cover them."
   ]
  },
  {
   "cell_type": "code",
   "execution_count": 30,
   "metadata": {},
   "outputs": [
    {
     "data": {
      "text/plain": [
       "array(['R', 'PG-13', 'PG', 'Not Rated', 'G', 'TV-G', 'TV-PG', 'TV-MA',\n",
       "       'Passed', 'Approved', '6', 'AL', 'Unrated', 'TV-14', '7+', 'TV-Y'],\n",
       "      dtype=object)"
      ]
     },
     "execution_count": 30,
     "metadata": {},
     "output_type": "execute_result"
    }
   ],
   "source": [
    "df['rating'].unique()"
   ]
  },
  {
   "cell_type": "markdown",
   "metadata": {},
   "source": [
    "#### In the 'rating' column the films are classified based on the classification of different countries. We unify them."
   ]
  },
  {
   "cell_type": "code",
   "execution_count": 31,
   "metadata": {},
   "outputs": [],
   "source": [
    "def rating_change(rating):\n",
    "    \"\"\" This function replaces one text with another.\n",
    "\n",
    "    Args:\n",
    "        rating (string): text that we are going to modify\n",
    "\n",
    "    Returns:\n",
    "        string: modified text\n",
    "    \"\"\"\n",
    "    \n",
    "    if rating == 'R' or rating == 'TV-MA':\n",
    "        return '17 years or more'\n",
    "        \n",
    "    elif rating == 'PG' or rating == 'TV-PG':\n",
    "        return 'parental guide'\n",
    "        \n",
    "    elif rating == 'G' or rating == 'TV-G' or rating == 'Passed' or rating == 'Approved' or rating == 'AL' or rating == 'TV-Y': \n",
    "        return 'All public'\n",
    "        \n",
    "    elif rating == 'Not Rated' or rating == 'Unrated':\n",
    "        return 'unclassified'\n",
    "        \n",
    "    elif rating == 'PG-13':\n",
    "        return '13 years or more'\n",
    "    \n",
    "    elif rating == '6':\n",
    "        return '6 years or more'\n",
    "        \n",
    "    elif rating == 'TV-14':\n",
    "        return '14 years or more'\n",
    "        \n",
    "    elif rating == '7+':\n",
    "        return '7 years or more'"
   ]
  },
  {
   "cell_type": "code",
   "execution_count": 32,
   "metadata": {},
   "outputs": [],
   "source": [
    "df['rating'] = df['rating'].apply(rating_change)"
   ]
  },
  {
   "cell_type": "code",
   "execution_count": 33,
   "metadata": {},
   "outputs": [
    {
     "data": {
      "text/html": [
       "<div>\n",
       "<style scoped>\n",
       "    .dataframe tbody tr th:only-of-type {\n",
       "        vertical-align: middle;\n",
       "    }\n",
       "\n",
       "    .dataframe tbody tr th {\n",
       "        vertical-align: top;\n",
       "    }\n",
       "\n",
       "    .dataframe thead th {\n",
       "        text-align: right;\n",
       "    }\n",
       "</style>\n",
       "<table border=\"1\" class=\"dataframe\">\n",
       "  <thead>\n",
       "    <tr style=\"text-align: right;\">\n",
       "      <th></th>\n",
       "      <th>title</th>\n",
       "      <th>rating</th>\n",
       "      <th>runtime</th>\n",
       "      <th>imdb_rating</th>\n",
       "      <th>genre</th>\n",
       "      <th>release_year</th>\n",
       "      <th>description</th>\n",
       "      <th>director</th>\n",
       "      <th>stars</th>\n",
       "      <th>votes</th>\n",
       "      <th>img_src</th>\n",
       "      <th>type</th>\n",
       "    </tr>\n",
       "  </thead>\n",
       "  <tbody>\n",
       "    <tr>\n",
       "      <th>0</th>\n",
       "      <td>Love Actually</td>\n",
       "      <td>17 years or more</td>\n",
       "      <td>135</td>\n",
       "      <td>7.6</td>\n",
       "      <td>Comedy, Drama, Romance</td>\n",
       "      <td>2003</td>\n",
       "      <td>Follows the lives of eight very different coup...</td>\n",
       "      <td>Richard Curtis</td>\n",
       "      <td>Hugh Grant, Martine McCutcheon, Liam Neeson, L...</td>\n",
       "      <td>491920</td>\n",
       "      <td>https://m.media-amazon.com/images/M/MV5BMTY4Nj...</td>\n",
       "      <td>Movie</td>\n",
       "    </tr>\n",
       "    <tr>\n",
       "      <th>1</th>\n",
       "      <td>National Lampoon's Christmas Vacation</td>\n",
       "      <td>13 years or more</td>\n",
       "      <td>97</td>\n",
       "      <td>7.5</td>\n",
       "      <td>Comedy</td>\n",
       "      <td>1989</td>\n",
       "      <td>The Griswold family's plans for a big family C...</td>\n",
       "      <td>Jeremiah S. Chechik</td>\n",
       "      <td>Chevy Chase, Beverly D'Angelo, Juliette Lewis,...</td>\n",
       "      <td>198428</td>\n",
       "      <td>https://m.media-amazon.com/images/M/MV5BMGZkMW...</td>\n",
       "      <td>Movie</td>\n",
       "    </tr>\n",
       "  </tbody>\n",
       "</table>\n",
       "</div>"
      ],
      "text/plain": [
       "                                   title            rating  runtime  \\\n",
       "0                          Love Actually  17 years or more      135   \n",
       "1  National Lampoon's Christmas Vacation  13 years or more       97   \n",
       "\n",
       "   imdb_rating                   genre  release_year  \\\n",
       "0          7.6  Comedy, Drama, Romance          2003   \n",
       "1          7.5                  Comedy          1989   \n",
       "\n",
       "                                         description             director  \\\n",
       "0  Follows the lives of eight very different coup...       Richard Curtis   \n",
       "1  The Griswold family's plans for a big family C...  Jeremiah S. Chechik   \n",
       "\n",
       "                                               stars   votes  \\\n",
       "0  Hugh Grant, Martine McCutcheon, Liam Neeson, L...  491920   \n",
       "1  Chevy Chase, Beverly D'Angelo, Juliette Lewis,...  198428   \n",
       "\n",
       "                                             img_src   type  \n",
       "0  https://m.media-amazon.com/images/M/MV5BMTY4Nj...  Movie  \n",
       "1  https://m.media-amazon.com/images/M/MV5BMGZkMW...  Movie  "
      ]
     },
     "execution_count": 33,
     "metadata": {},
     "output_type": "execute_result"
    }
   ],
   "source": [
    "df.head(2)"
   ]
  },
  {
   "cell_type": "code",
   "execution_count": 34,
   "metadata": {},
   "outputs": [
    {
     "data": {
      "text/plain": [
       "array(['17 years or more', '13 years or more', 'parental guide',\n",
       "       'unclassified', 'All public', '6 years or more',\n",
       "       '14 years or more', '7 years or more'], dtype=object)"
      ]
     },
     "execution_count": 34,
     "metadata": {},
     "output_type": "execute_result"
    }
   ],
   "source": [
    "df['rating'].unique()"
   ]
  },
  {
   "cell_type": "markdown",
   "metadata": {},
   "source": [
    "#### The 'description' column contains a series of genres to which the film belongs. We will separate it to simplify the subsequent visual analysis."
   ]
  },
  {
   "cell_type": "code",
   "execution_count": 35,
   "metadata": {},
   "outputs": [],
   "source": [
    "def genre(df,pattern,column):\n",
    "    \"\"\"This function separates a list of items by commas and creates a new row for each of the items in the list.\n",
    "\n",
    "    Args:\n",
    "        df (dataframe): dataframe that we will modify\n",
    "        pattern (string): pattern by which we will separate the list\n",
    "        column (string): name of the column that we will modify\n",
    "\n",
    "    Returns:\n",
    "        dataframe: modified data frame\n",
    "    \"\"\"\n",
    "    \n",
    "    df[column] = df[column].str.split(pattern, n = -1) \n",
    "    \n",
    "    return df.explode(column)"
   ]
  },
  {
   "cell_type": "code",
   "execution_count": 36,
   "metadata": {},
   "outputs": [],
   "source": [
    "clean_df = genre(df, ', ', 'genre')"
   ]
  },
  {
   "cell_type": "code",
   "execution_count": 37,
   "metadata": {},
   "outputs": [
    {
     "data": {
      "text/html": [
       "<div>\n",
       "<style scoped>\n",
       "    .dataframe tbody tr th:only-of-type {\n",
       "        vertical-align: middle;\n",
       "    }\n",
       "\n",
       "    .dataframe tbody tr th {\n",
       "        vertical-align: top;\n",
       "    }\n",
       "\n",
       "    .dataframe thead th {\n",
       "        text-align: right;\n",
       "    }\n",
       "</style>\n",
       "<table border=\"1\" class=\"dataframe\">\n",
       "  <thead>\n",
       "    <tr style=\"text-align: right;\">\n",
       "      <th></th>\n",
       "      <th>title</th>\n",
       "      <th>rating</th>\n",
       "      <th>runtime</th>\n",
       "      <th>imdb_rating</th>\n",
       "      <th>genre</th>\n",
       "      <th>release_year</th>\n",
       "      <th>description</th>\n",
       "      <th>director</th>\n",
       "      <th>stars</th>\n",
       "      <th>votes</th>\n",
       "      <th>img_src</th>\n",
       "      <th>type</th>\n",
       "    </tr>\n",
       "  </thead>\n",
       "  <tbody>\n",
       "    <tr>\n",
       "      <th>0</th>\n",
       "      <td>Love Actually</td>\n",
       "      <td>17 years or more</td>\n",
       "      <td>135</td>\n",
       "      <td>7.6</td>\n",
       "      <td>Comedy</td>\n",
       "      <td>2003</td>\n",
       "      <td>Follows the lives of eight very different coup...</td>\n",
       "      <td>Richard Curtis</td>\n",
       "      <td>Hugh Grant, Martine McCutcheon, Liam Neeson, L...</td>\n",
       "      <td>491920</td>\n",
       "      <td>https://m.media-amazon.com/images/M/MV5BMTY4Nj...</td>\n",
       "      <td>Movie</td>\n",
       "    </tr>\n",
       "    <tr>\n",
       "      <th>0</th>\n",
       "      <td>Love Actually</td>\n",
       "      <td>17 years or more</td>\n",
       "      <td>135</td>\n",
       "      <td>7.6</td>\n",
       "      <td>Drama</td>\n",
       "      <td>2003</td>\n",
       "      <td>Follows the lives of eight very different coup...</td>\n",
       "      <td>Richard Curtis</td>\n",
       "      <td>Hugh Grant, Martine McCutcheon, Liam Neeson, L...</td>\n",
       "      <td>491920</td>\n",
       "      <td>https://m.media-amazon.com/images/M/MV5BMTY4Nj...</td>\n",
       "      <td>Movie</td>\n",
       "    </tr>\n",
       "  </tbody>\n",
       "</table>\n",
       "</div>"
      ],
      "text/plain": [
       "           title            rating  runtime  imdb_rating   genre  \\\n",
       "0  Love Actually  17 years or more      135          7.6  Comedy   \n",
       "0  Love Actually  17 years or more      135          7.6   Drama   \n",
       "\n",
       "   release_year                                        description  \\\n",
       "0          2003  Follows the lives of eight very different coup...   \n",
       "0          2003  Follows the lives of eight very different coup...   \n",
       "\n",
       "         director                                              stars   votes  \\\n",
       "0  Richard Curtis  Hugh Grant, Martine McCutcheon, Liam Neeson, L...  491920   \n",
       "0  Richard Curtis  Hugh Grant, Martine McCutcheon, Liam Neeson, L...  491920   \n",
       "\n",
       "                                             img_src   type  \n",
       "0  https://m.media-amazon.com/images/M/MV5BMTY4Nj...  Movie  \n",
       "0  https://m.media-amazon.com/images/M/MV5BMTY4Nj...  Movie  "
      ]
     },
     "execution_count": 37,
     "metadata": {},
     "output_type": "execute_result"
    }
   ],
   "source": [
    "clean_df.head(2)"
   ]
  },
  {
   "cell_type": "code",
   "execution_count": 234,
   "metadata": {},
   "outputs": [],
   "source": [
    "clean_df.to_csv('../clean_data_movies/clean_christmas_movies.csv')"
   ]
  }
 ],
 "metadata": {
  "kernelspec": {
   "display_name": "base",
   "language": "python",
   "name": "python3"
  },
  "language_info": {
   "codemirror_mode": {
    "name": "ipython",
    "version": 3
   },
   "file_extension": ".py",
   "mimetype": "text/x-python",
   "name": "python",
   "nbconvert_exporter": "python",
   "pygments_lexer": "ipython3",
   "version": "3.11.3"
  }
 },
 "nbformat": 4,
 "nbformat_minor": 2
}
